{
 "cells": [
  {
   "cell_type": "markdown",
   "metadata": {},
   "source": [
    "### Question 1. What is the altitude and azimuth of the North Celestial Pole?\n",
    "\n",
    "Altitude $19^{\\circ}$\n",
    "Azimuth $0^{\\circ}$"
   ]
  },
  {
   "cell_type": "markdown",
   "metadata": {},
   "source": [
    "### Question 2. What is the altitude at transit of an object on the celestial equator (Dec=0 deg)?\n",
    "\n",
    "Altitude = $90^{\\circ}$ - Latitude + Declination = $71^{\\circ}$"
   ]
  },
  {
   "cell_type": "markdown",
   "metadata": {},
   "source": [
    "### Question 3. What is the azimuth of a star on the celestial equator at the moment that it is setting?\n",
    "\n",
    "As the star sets exactly in the west, its azimuth would be exactly $270^{\\circ}$"
   ]
  },
  {
   "cell_type": "markdown",
   "metadata": {},
   "source": [
    "### Question 4. Assuming GMRT can observe everything above the horizon, which of the following can never be observed with GMRT - M45, M83, Omega Centauri, Cassiopia A Centaurus A, Large Magellanic Cloud, Andromeda Galaxy, Carina Nebula?\n",
    "\n",
    "To determine which objects can never be observed, we need to check if their declinations place them below the horizon at any time from the GMRT's latitude. Objects with a declination less than $-90^{\\circ} + 19^{\\circ} = -71^{\\circ}$\n",
    "\n",
    "M45 $\\longrightarrow$ Observable \n",
    "\n",
    "M83 $\\longrightarrow$ Observable \n",
    "\n",
    "Omega Centauri $\\longrightarrow$ Observable \n",
    "\n",
    "Cassiopia A $\\longrightarrow$ Observable \n",
    "\n",
    "Centaurus A $\\longrightarrow$ Observable \n",
    "\n",
    "Large Magellanic Cloud $\\longrightarrow$ Not Observable \n",
    "\n",
    "Andromeda Galaxy $\\longrightarrow$ Observable \n",
    "\n",
    "Carina Nebula $\\longrightarrow$ Not Observable \n"
   ]
  },
  {
   "cell_type": "markdown",
   "metadata": {},
   "source": [
    "### Question 5. GW170817 (named by discovery date - 17 August 2017) was the first ever detection in electromagnetic waves of a compact binary merger event of two neutron stars following its detection in gravitational waves with LIGO (More info : https://www.ligo.caltech.edu/page/press-release-gw170817). You are tasked with obtaining radio data of GW170817 (RA 13h 09m 48.08s and Dec -23d 22m 53.3s). What is the expected altitude of GW170817 when it is transiting?\n",
    "\n",
    "Altitude = $90^{\\circ}$ - Latitude + Declination = $90^{\\circ} - 19^{\\circ} + (-23.38^{\\circ})$ = $47.62^{\\circ}$"
   ]
  }
 ],
 "metadata": {
  "language_info": {
   "name": "python"
  }
 },
 "nbformat": 4,
 "nbformat_minor": 2
}
